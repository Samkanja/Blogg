{
 "cells": [
  {
   "cell_type": "code",
   "execution_count": 1,
   "id": "liable-august",
   "metadata": {},
   "outputs": [
    {
     "name": "stdout",
     "output_type": "stream",
     "text": [
      "  school sex  age address famsize Pstatus  Medu  Fedu     Mjob      Fjob  ...  \\\n",
      "0     GP   F   18       U     GT3       A     4     4  at_home   teacher  ...   \n",
      "1     GP   F   17       U     GT3       T     1     1  at_home     other  ...   \n",
      "2     GP   F   15       U     LE3       T     1     1  at_home     other  ...   \n",
      "3     GP   F   15       U     GT3       T     4     2   health  services  ...   \n",
      "4     GP   F   16       U     GT3       T     3     3    other     other  ...   \n",
      "\n",
      "  famrel freetime  goout  Dalc  Walc health absences  G1  G2  G3  \n",
      "0      4        3      4     1     1      3        6   5   6   6  \n",
      "1      5        3      3     1     1      3        4   5   5   6  \n",
      "2      4        3      2     2     3      3       10   7   8  10  \n",
      "3      3        2      2     1     1      5        2  15  14  15  \n",
      "4      4        3      2     1     2      5        4   6  10  10  \n",
      "\n",
      "[5 rows x 33 columns]\n"
     ]
    },
    {
     "data": {
      "text/html": [
       "<div>\n",
       "<style scoped>\n",
       "    .dataframe tbody tr th:only-of-type {\n",
       "        vertical-align: middle;\n",
       "    }\n",
       "\n",
       "    .dataframe tbody tr th {\n",
       "        vertical-align: top;\n",
       "    }\n",
       "\n",
       "    .dataframe thead th {\n",
       "        text-align: right;\n",
       "    }\n",
       "</style>\n",
       "<table border=\"1\" class=\"dataframe\">\n",
       "  <thead>\n",
       "    <tr style=\"text-align: right;\">\n",
       "      <th></th>\n",
       "      <th>G1</th>\n",
       "      <th>G2</th>\n",
       "      <th>G3</th>\n",
       "      <th>studytime</th>\n",
       "      <th>failures</th>\n",
       "      <th>absences</th>\n",
       "    </tr>\n",
       "  </thead>\n",
       "  <tbody>\n",
       "    <tr>\n",
       "      <th>0</th>\n",
       "      <td>5</td>\n",
       "      <td>6</td>\n",
       "      <td>6</td>\n",
       "      <td>2</td>\n",
       "      <td>0</td>\n",
       "      <td>6</td>\n",
       "    </tr>\n",
       "    <tr>\n",
       "      <th>1</th>\n",
       "      <td>5</td>\n",
       "      <td>5</td>\n",
       "      <td>6</td>\n",
       "      <td>2</td>\n",
       "      <td>0</td>\n",
       "      <td>4</td>\n",
       "    </tr>\n",
       "    <tr>\n",
       "      <th>2</th>\n",
       "      <td>7</td>\n",
       "      <td>8</td>\n",
       "      <td>10</td>\n",
       "      <td>2</td>\n",
       "      <td>3</td>\n",
       "      <td>10</td>\n",
       "    </tr>\n",
       "    <tr>\n",
       "      <th>3</th>\n",
       "      <td>15</td>\n",
       "      <td>14</td>\n",
       "      <td>15</td>\n",
       "      <td>3</td>\n",
       "      <td>0</td>\n",
       "      <td>2</td>\n",
       "    </tr>\n",
       "    <tr>\n",
       "      <th>4</th>\n",
       "      <td>6</td>\n",
       "      <td>10</td>\n",
       "      <td>10</td>\n",
       "      <td>2</td>\n",
       "      <td>0</td>\n",
       "      <td>4</td>\n",
       "    </tr>\n",
       "  </tbody>\n",
       "</table>\n",
       "</div>"
      ],
      "text/plain": [
       "   G1  G2  G3  studytime  failures  absences\n",
       "0   5   6   6          2         0         6\n",
       "1   5   5   6          2         0         4\n",
       "2   7   8  10          2         3        10\n",
       "3  15  14  15          3         0         2\n",
       "4   6  10  10          2         0         4"
      ]
     },
     "execution_count": 1,
     "metadata": {},
     "output_type": "execute_result"
    }
   ],
   "source": [
    "from sklearn import linear_model\n",
    "from sklearn.utils import shuffle\n",
    "import pandas as pd\n",
    "import numpy as np\n",
    "data = pd.read_csv(\"student-mat.csv\" , sep =\";\")\n",
    "print(data.head())\n",
    "data = data[[\"G1\",\"G2\",\"G3\" , \"studytime\",\"failures\",\"absences\"]]\n",
    "data.head()"
   ]
  },
  {
   "cell_type": "code",
   "execution_count": 2,
   "id": "forced-secondary",
   "metadata": {},
   "outputs": [
    {
     "data": {
      "text/plain": [
       "array([[ 5,  6,  2,  0,  6],\n",
       "       [ 5,  5,  2,  0,  4],\n",
       "       [ 7,  8,  2,  3, 10],\n",
       "       ...,\n",
       "       [10,  8,  1,  3,  3],\n",
       "       [11, 12,  1,  0,  0],\n",
       "       [ 8,  9,  1,  0,  5]])"
      ]
     },
     "execution_count": 2,
     "metadata": {},
     "output_type": "execute_result"
    }
   ],
   "source": [
    "X = np.array(data.drop([\"G3\"],1))\n",
    "y = np.array(data[\"G3\"])\n",
    "X"
   ]
  },
  {
   "cell_type": "code",
   "execution_count": 3,
   "id": "promotional-musical",
   "metadata": {},
   "outputs": [
    {
     "data": {
      "text/plain": [
       "0.8283949283186454"
      ]
     },
     "execution_count": 3,
     "metadata": {},
     "output_type": "execute_result"
    }
   ],
   "source": [
    "from sklearn.model_selection import train_test_split\n",
    "from sklearn.linear_model import LinearRegression\n",
    "x_train, x_test, y_train, y_test = train_test_split(X, y, test_size= 0.1)\n",
    "\n",
    "linear = LinearRegression()\n",
    "linear.fit(x_train, y_train)\n",
    "acc = linear.score(x_test,y_test)\n",
    "acc\n",
    "\n"
   ]
  },
  {
   "cell_type": "code",
   "execution_count": 4,
   "id": "linear-option",
   "metadata": {},
   "outputs": [
    {
     "name": "stdout",
     "output_type": "stream",
     "text": [
      "M :  [ 0.16718174  0.96711785 -0.14582434 -0.24064387  0.04342954]\n",
      "intercept:  -1.6352417963218286\n"
     ]
    }
   ],
   "source": [
    "print(\"M : \" , linear.coef_)\n",
    "print(\"intercept: \" , linear.intercept_)"
   ]
  },
  {
   "cell_type": "code",
   "execution_count": 5,
   "id": "departmental-publication",
   "metadata": {},
   "outputs": [
    {
     "data": {
      "text/plain": [
       "array([ 9.7834752 , 11.91738805,  9.3357828 ,  7.29015304,  9.61118102,\n",
       "       18.98376286,  3.91832567,  6.35410659,  5.85942189,  7.08854102,\n",
       "       18.46914477, 15.80383351,  9.25546015, 15.73251013, 10.47008239,\n",
       "        4.03055466, 11.69810158,  9.64878887, 13.95330381, 16.30876208,\n",
       "       12.29518107, 12.86630159,  7.03605109, 14.73188252,  8.06198952,\n",
       "       10.29155685,  8.15733892, 16.36772732, 13.51654554,  8.62924221,\n",
       "       14.29420372, 14.0615203 , 13.76476467,  9.13642972, 10.71386035,\n",
       "        3.33568195,  5.35306932, 13.2598361 , 15.19653463, 12.65182248])"
      ]
     },
     "execution_count": 5,
     "metadata": {},
     "output_type": "execute_result"
    }
   ],
   "source": [
    "predictions = linear.predict(x_test)\n",
    "predictions\n"
   ]
  },
  {
   "cell_type": "code",
   "execution_count": 6,
   "id": "dedicated-nightlife",
   "metadata": {},
   "outputs": [
    {
     "name": "stdout",
     "output_type": "stream",
     "text": [
      "9.783475196943996 [10 10  2  1 14] 9\n",
      "11.917388049347927 [12 12  1  0  2] 14\n",
      "9.335782795380378 [ 9 10  2  0  2] 10\n",
      "7.290153036826384 [ 8  8  4  0 10] 8\n",
      "9.61118102353059 [11 10  3  0  4] 11\n",
      "18.98376286240406 [18 18  1  0  8] 18\n",
      "3.9183256666738524 [5 5 2 0 4] 6\n",
      "6.354106585637798 [8 7 2 0 4] 6\n",
      "5.859421889520915 [7 7 2 1 2] 7\n",
      "7.088541015478862 [8 8 3 0 2] 10\n",
      "18.46914476901992 [17 18  1  0  0] 18\n",
      "15.803833512884601 [16 15  3  0 16] 15\n",
      "9.255460147435144 [ 8 10  2  0  4] 10\n",
      "15.732510125168751 [16 15  2  0 11] 15\n",
      "10.470082386345844 [10 11  2  0  2] 12\n",
      "4.0305546632489 [ 6  5  1  3 16] 5\n",
      "11.698101581381254 [13 12  2  1  2] 12\n",
      "9.648788867416998 [10 10  1  0  2] 10\n",
      "13.953303807187472 [14 14  2  0  0] 14\n",
      "16.308762078206183 [16 16  2  0  2] 16\n",
      "12.29518106795785 [14 12  1  0  3] 12\n",
      "12.866301588170975 [13 12  1  0 20] 12\n",
      "7.036051094107732 [10  8  1  3  3] 7\n",
      "14.73188252205749 [12 15  1  0  0] 15\n",
      "8.061989515903225 [10  8  1  0 10] 9\n",
      "10.291556849185591 [12 10  2  1 18] 10\n",
      "8.15733891938596 [10  9  4  0  0] 0\n",
      "16.367727324122004 [16 16  1  0  0] 15\n",
      "13.516545542661728 [12 14  3  0  1] 15\n",
      "8.629242208711274 [9 9 2 0 8] 9\n",
      "14.294203722396052 [15 14  2  0  4] 14\n",
      "14.061520298304668 [15 14  3  0  2] 15\n",
      "13.764764668125043 [12 14  1  0  0] 15\n",
      "9.136429724680964 [10 10  3  2  8] 10\n",
      "10.713860346818025 [ 9  9  2  0 56] 8\n",
      "3.3356819505466504 [6 5 1 3 0] 0\n",
      "5.353069319437176 [ 6  6  2  2 22] 4\n",
      "13.25983610280346 [12 13  2  0 14] 12\n",
      "15.196534629755195 [14 15  1  0  3] 16\n",
      "12.65182247918899 [12 13  2  0  0] 13\n"
     ]
    }
   ],
   "source": [
    "for x in range(len(predictions)):\n",
    "    print(predictions[x], x_test[x],y_test[x])\n",
    "    "
   ]
  },
  {
   "cell_type": "code",
   "execution_count": 7,
   "id": "intense-spine",
   "metadata": {},
   "outputs": [
    {
     "data": {
      "text/plain": [
       "<matplotlib.collections.PathCollection at 0x7f9946754ed0>"
      ]
     },
     "execution_count": 7,
     "metadata": {},
     "output_type": "execute_result"
    },
    {
     "data": {
      "image/png": "[encoded data removed]",
      "text/plain": [
       "<Figure size 432x288 with 1 Axes>"
      ]
     },
     "metadata": {},
     "output_type": "display_data"
    }
   ],
   "source": [
    "import matplotlib.pyplot as plt\n",
    "import seaborn as sns; sns.set()\n",
    "import numpy as np\n",
    "rng = np.random.RandomState(1)\n",
    "x = 10*rng.rand(50)\n",
    "y = 2*x-5+rng.randn(50)\n",
    "plt.scatter(x,y)"
   ]
  },
  {
   "cell_type": "code",
   "execution_count": 8,
   "id": "sound-shelf",
   "metadata": {},
   "outputs": [
    {
     "data": {
      "text/plain": [
       "LinearRegression()"
      ]
     },
     "execution_count": 8,
     "metadata": {},
     "output_type": "execute_result"
    }
   ],
   "source": [
    "from sklearn.linear_model import LinearRegression\n",
    "model = LinearRegression(fit_intercept = True)\n",
    "model.fit(x[:, np.newaxis], y)\n",
    "model"
   ]
  },
  {
   "cell_type": "code",
   "execution_count": 16,
   "id": "mobile-republican",
   "metadata": {},
   "outputs": [],
   "source": [
    "from sklearn.datasets import load_digits\n",
    "from sklearn.model_selection import train_test_split\n",
    "from sklearn import metrics\n",
    "digits = load_digits()\n",
    "\n"
   ]
  },
  {
   "cell_type": "code",
   "execution_count": 14,
   "id": "remarkable-inside",
   "metadata": {},
   "outputs": [
    {
     "name": "stdout",
     "output_type": "stream",
     "text": [
      "Image Data Shape (1797, 64)\n",
      "Image Data Shape (1797,)\n"
     ]
    }
   ],
   "source": [
    "print(\"Image Data Shape\", digits.data.shape)\n",
    "print(\"Image Data Shape\", digits.target.shape)"
   ]
  },
  {
   "cell_type": "code",
   "execution_count": 17,
   "id": "sunrise-anime",
   "metadata": {},
   "outputs": [
    {
     "data": {
      "image/png": "[encoded data removed]",
      "text/plain": [
       "<Figure size 1440x288 with 5 Axes>"
      ]
     },
     "metadata": {},
     "output_type": "display_data"
    }
   ],
   "source": [
    "plt.figure(figsize=(20,4))\n",
    "for index , (image, label) in enumerate(zip(digits.data[0:5],digits.target[0:5])):\n",
    "    plt.subplot(1,5, index + 1)\n",
    "    plt.imshow(np.reshape(image,(8,8)), cmap=plt.cm.gray)\n",
    "    plt.title(\"Training: %i\\n\" %  label, fontsize = 20)"
   ]
  },
  {
   "cell_type": "code",
   "execution_count": 19,
   "id": "geographic-armenia",
   "metadata": {},
   "outputs": [],
   "source": [
    "x_train, x_test, y_train, y_test = train_test_split(digits.data, digits.target, test_size=0.23, random_state = 2)"
   ]
  },
  {
   "cell_type": "code",
   "execution_count": 21,
   "id": "mysterious-leave",
   "metadata": {},
   "outputs": [
    {
     "name": "stdout",
     "output_type": "stream",
     "text": [
      "(1383, 64)\n",
      "(1383,)\n",
      "(414, 64)\n",
      "(414,)\n"
     ]
    }
   ],
   "source": [
    "print(x_train.shape)\n",
    "print(y_train.shape)\n",
    "print(x_test.shape)\n",
    "print(y_test.shape)"
   ]
  },
  {
   "cell_type": "code",
   "execution_count": 27,
   "id": "infinite-moses",
   "metadata": {},
   "outputs": [
    {
     "name": "stderr",
     "output_type": "stream",
     "text": [
      "/home/kanjakagimbi/anaconda3/lib/python3.7/site-packages/sklearn/linear_model/_logistic.py:764: ConvergenceWarning: lbfgs failed to converge (status=1):\n",
      "STOP: TOTAL NO. of ITERATIONS REACHED LIMIT.\n",
      "\n",
      "Increase the number of iterations (max_iter) or scale the data as shown in:\n",
      "    https://scikit-learn.org/stable/modules/preprocessing.html\n",
      "Please also refer to the documentation for alternative solver options:\n",
      "    https://scikit-learn.org/stable/modules/linear_model.html#logistic-regression\n",
      "  extra_warning_msg=_LOGISTIC_SOLVER_CONVERGENCE_MSG)\n"
     ]
    },
    {
     "data": {
      "text/plain": [
       "LogisticRegression()"
      ]
     },
     "execution_count": 27,
     "metadata": {},
     "output_type": "execute_result"
    }
   ],
   "source": [
    "from sklearn.linear_model import LogisticRegression\n",
    "from sklearn.preprocessing import StandardScaler\n",
    "from sklearn.pipeline import make_pipeline\n",
    "logreg = LogisticRegression()\n",
    "logreg.fit(x_train,y_train)"
   ]
  },
  {
   "cell_type": "code",
   "execution_count": 28,
   "id": "sophisticated-america",
   "metadata": {},
   "outputs": [
    {
     "name": "stdout",
     "output_type": "stream",
     "text": [
      "[4]\n"
     ]
    }
   ],
   "source": [
    "print(logreg.predict(x_test[0].reshape(1,-1)))"
   ]
  },
  {
   "cell_type": "code",
   "execution_count": 30,
   "id": "severe-there",
   "metadata": {},
   "outputs": [],
   "source": [
    "predictions = logreg.predict(x_test)\n"
   ]
  },
  {
   "cell_type": "code",
   "execution_count": 31,
   "id": "vertical-people",
   "metadata": {},
   "outputs": [
    {
     "data": {
      "text/plain": [
       "0.9516908212560387"
      ]
     },
     "execution_count": 31,
     "metadata": {},
     "output_type": "execute_result"
    }
   ],
   "source": [
    "score = logreg.score(x_test,y_test)\n",
    "score"
   ]
  },
  {
   "cell_type": "code",
   "execution_count": 32,
   "id": "supposed-talent",
   "metadata": {},
   "outputs": [
    {
     "data": {
      "text/plain": [
       "array([[37,  0,  0,  0,  1,  0,  0,  0,  0,  0],\n",
       "       [ 0, 45,  0,  1,  0,  0,  0,  0,  1,  1],\n",
       "       [ 0,  0, 43,  0,  0,  0,  0,  0,  0,  0],\n",
       "       [ 0,  0,  0, 40,  0,  0,  0,  1,  1,  0],\n",
       "       [ 0,  0,  0,  0, 34,  0,  0,  0,  3,  1],\n",
       "       [ 0,  1,  0,  0,  1, 44,  0,  0,  0,  0],\n",
       "       [ 0,  1,  0,  0,  0,  0, 39,  0,  1,  0],\n",
       "       [ 0,  0,  0,  0,  0,  0,  0, 45,  1,  0],\n",
       "       [ 0,  0,  0,  0,  0,  0,  0,  0, 37,  1],\n",
       "       [ 0,  0,  0,  2,  0,  1,  0,  0,  1, 30]])"
      ]
     },
     "execution_count": 32,
     "metadata": {},
     "output_type": "execute_result"
    }
   ],
   "source": [
    "kanja = metrics.confusion_matrix(y_test, predictions)\n",
    "kanja"
   ]
  },
  {
   "cell_type": "code",
   "execution_count": 34,
   "id": "thousand-result",
   "metadata": {},
   "outputs": [
    {
     "data": {
      "text/plain": [
       "Text(0.5, 1.0, 'Accuracy Score: 0.9516908212560387')"
      ]
     },
     "execution_count": 34,
     "metadata": {},
     "output_type": "execute_result"
    },
    {
     "data": {
      "image/png": "[encoded data removed]",
      "text/plain": [
       "<Figure size 648x648 with 2 Axes>"
      ]
     },
     "metadata": {},
     "output_type": "display_data"
    }
   ],
   "source": [
    "plt.figure(figsize=(9,9))\n",
    "sns.heatmap(kanja, annot=True, fmt=\".3f\", linewidths=.5, square= True, cmap=\"Blues_r\")\n",
    "plt.ylabel(\"actual label\")\n",
    "plt.xlabel(\"predicted label\")\n",
    "all_sample_title = \"Accuracy Score: {0}\".format(score)\n",
    "plt.title(all_sample_title, size =15)\n"
   ]
  },
  {
   "cell_type": "code",
   "execution_count": null,
   "id": "south-wright",
   "metadata": {},
   "outputs": [],
   "source": []
  }
 ],
 "metadata": {
  "kernelspec": {
   "display_name": "Python 3",
   "language": "python",
   "name": "python3"
  },
  "language_info": {
   "codemirror_mode": {
    "name": "ipython",
    "version": 3
   },
   "file_extension": ".py",
   "mimetype": "text/x-python",
   "name": "python",
   "nbconvert_exporter": "python",
   "pygments_lexer": "ipython3",
   "version": "3.7.9"
  }
 },
 "nbformat": 4,
 "nbformat_minor": 5
}
